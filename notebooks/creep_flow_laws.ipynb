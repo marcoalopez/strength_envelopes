{
 "cells": [
  {
   "cell_type": "markdown",
   "metadata": {},
   "source": [
    "# Power-law creep envelopes: getting started\n",
    "\n",
    "Copyright 2022 Marco A. Lopez-Sanchez.  \n",
    "Content under [Creative Commons Attribution license CC-BY 4.0](https://creativecommons.org/licenses/by/4.0/), code under [Mozilla Public License 2.0](https://www.mozilla.org/en-US/MPL/2.0/).\n",
    "\n",
    "> **Goal**: Understand flow laws and estimate simple power-law creep envelopes in the continental crust."
   ]
  },
  {
   "cell_type": "code",
   "execution_count": 1,
   "metadata": {},
   "outputs": [],
   "source": [
    "# import the required Python scientific libraries\n",
    "import numpy as np\n",
    "import pandas as pd\n",
    "import matplotlib.pyplot as plt\n",
    "from types import SimpleNamespace\n",
    "\n",
    "# set a custom figure style (optional, you can comment the whole block)\n",
    "import matplotlib as mpl\n",
    "mpl.style.use('fivethirtyeight')\n",
    "mpl.rcParams['figure.facecolor'] = 'white'\n",
    "mpl.rcParams['axes.facecolor'] = 'white'\n",
    "mpl.rcParams['axes.edgecolor'] = 'white'"
   ]
  },
  {
   "cell_type": "markdown",
   "metadata": {},
   "source": [
    "## Introduction\n",
    "\n",
    "At depths greater than 10-15 km rocks lie at temperatures and pressures high enough to flow under shear stresses without losing coherence (i.e. without fracturing). To describe and predict how rocks deform under such conditions, earth scientists typically use mathematical equations that relate stress to strain rate. We called such relationship **flow law**, _deformation law_, or, if it refers to a specific material, a *constitutive equation*, where _constitutive_ refers to the constitution of the material.\n",
    "\n",
    "> Under conditions of temperature approximately above half their melting temperature $>0.5T_m$, polycrystalline monomineralic rocks (e.g. quartzite, ice or salt) flow under shear stress as long as the shear stress is above a threshold value called the [yield stress](https://en.wikipedia.org/wiki/Yield_(engineering)). Below that limit, rocks undergo elastic deformation (recoverable once the differential stress is removed). Above this limit, the deformation produced will be irreversible. This behaviour is generally referred to as [plasticity](https://en.wikipedia.org/wiki/Plasticity_(physics)) or (visco)plastic deformation. For further information on rheological nomenclature see [here](http://dx.doi.org/10.31223/X5Z92Z). The two most important features of (visco)plastic deformation are that **once the yield stress is exceeded** the final deformation depends mainly on time and temperature (which strongly affects strain rates). It is therefore said that (visco)plasticity is a process with a strong dependence on time and temperature."
   ]
  },
  {
   "cell_type": "markdown",
   "metadata": {},
   "source": [
    "## Step 1: The power-law creep approximation\n",
    "\n",
    "> **Unfinished!**\n",
    "\n",
    "Rock and single-crystal deformation experiments show that at low to moderate shear stresses (<200 MPa), those expected to operate in the aseismic (ductile) lithosphere, the relationship between differential stress and strain rate fits a power-law relationship referred to as the _power-law creep_, i.e. that strain rate ($\\dot{\\epsilon}$) is proportional to the differential stress ($\\sigma_d$) raised to a number, named the stress exponent ($n$), as follows\n",
    "\n",
    "$$\n",
    "\\dot{\\epsilon} \\propto \\sigma^n_d\n",
    "$$\n",
    "\n",
    "TODO -> show a figure of how the power law relationships look like and the effect of the value of n\n"
   ]
  },
  {
   "cell_type": "code",
   "execution_count": 2,
   "metadata": {},
   "outputs": [
    {
     "data": {
      "text/plain": [
       "Text(0, 0.5, '$\\\\sigma_{diff}$')"
      ]
     },
     "execution_count": 2,
     "metadata": {},
     "output_type": "execute_result"
    },
    {
     "data": {
      "image/png": "[encoded data removed]",
      "text/plain": [
       "<Figure size 432x288 with 1 Axes>"
      ]
     },
     "metadata": {},
     "output_type": "display_data"
    }
   ],
   "source": [
    "srates = np.linspace(0, 30, 1000)\n",
    "\n",
    "def norm(n):\n",
    "    \"\"\"this is just a funtion to estimate the C value\n",
    "    so that all the stress vs strain rate curves have\n",
    "    the same differential stress for a strain rate of\n",
    "    10\"\"\"\n",
    "    return (10**(1 - 1/n))**-n\n",
    "\n",
    "# estimate corresponding differential stresses using: sigma = (srates / C)**(1 / n) \n",
    "y1 = srates\n",
    "y3 = (srates / norm(3))**(1 / 3)\n",
    "y5 = (srates / norm(5))**(1 / 5)\n",
    "y7 = (srates / norm(7))**(1 / 7)\n",
    "\n",
    "# make figure\n",
    "fig, ax = plt.subplots()\n",
    "\n",
    "ax.plot(srates, y1, label='n=1')\n",
    "ax.plot(srates, y3, label='n=3')\n",
    "ax.plot(srates, y5, label='n=5')\n",
    "ax.plot(srates, y7, label='n=7')\n",
    "\n",
    "ax.legend()\n",
    "ax.set_xlabel('$\\dot{\\epsilon}_{ss}$')\n",
    "ax.set_ylabel('$\\sigma_{diff}$')"
   ]
  },
  {
   "cell_type": "markdown",
   "metadata": {},
   "source": [
    "\n",
    "Most rock types in the laboratory provide values of $n$ between 3 and 5.\n",
    "\n",
    "TODO -> explain the meaning of the different stress values!!\n",
    "\n",
    "As previously mentioned, when a material deforms (visco)plastically, there is a strong dependence on the temperature. This dependence is normally implemented by adding the Arrhenius model to this relationship between the differential stress and the strain rate as follows\n",
    "\n",
    "$$\n",
    "\\dot{\\epsilon} = \\sigma^n_d A \\space exp \\left( \\frac{E}{RT} \\right)\n",
    "$$\n",
    "  \n",
    "where $A \\space exp(E/RT)$ is the Arrhenius equation. TODO -> show how the T values affects the strain rate by fixing the other variables\n",
    "\n",
    "...being the higher the temperature the higher the strain rate for similar differential stress. All other variables in the Arrhenius equation excepting $R$ are intrinsic to the material itself (see box below for details).\n",
    "\n",
    "\n",
    "> 👉 The [Arrhenius equation](https://en.wikipedia.org/wiki/Arrhenius_equation) is a formula proposed by [Svante Arrhenius](https://en.wikipedia.org/wiki/Svante_Arrhenius) to model reaction rates, i.e. the frequency of events per second that result in a reaction. This equation, however, is used in a general way for modelling any process involving rates and dependence on temperature such as viscosity in fluids or plasticity in solids. In our case, it will account for the frequency of events that lead to a permanent crystal lattice deformation. The equation consists of two main parts, the _pre-exponential factor_ $(A)$ which in a chemical reaction accounts for the number of events per second leading to or not to a reaction (in our case leading to or not to a permanent crystal lattice deformation), and the _exponential factor_ $exp(E/RT)$ that accounts for the probability that any given event will result in a chemical reaction (or permanent crystal lattice deformation). The _exponential factor_ includes the _activation energy_ $(E)$ needed for process being modelled to occur in $J mol^{-1}$, the _universal gas constant_ $(R)$ in $J mol^{-1} K^{-1}$, and the _absolute temperature_ $(T)$ in kelvins. The _pre-exponential factor_ $(A)$ and the _activation energy_ $(E)$ are both material-specific variables and are estimated in the laboratory for different types of rock.\n",
    "\n",
    "TODO: At these conditions, rock samples typically develop dynamic recrystallization and crystallographic preferred orientation (CPO), both typical features of a deformation controlled by the movement of dislocations known as [dislocation creep](https://en.wikipedia.org/wiki/Dislocation_creep). This observation is in excellent agreement with what is observed in nature, where the most typical feature in natural ductile shear zones at depths below 10-15 km is the presence of fine-grained rocks known as [mylonites](https://en.wikipedia.org/wiki/Mylonite) characterized by these very same microstructures. Hence, geophysicists usually use power-law equations with $n$ values typical of the dislocation creep to model the deformation of the non-frictional part of the lithosphere, a fairly reliable first approximation since most of the deformation in the lithosphere is accommodated through [crustal-scale shear zones](https://doi.org/10.1016/j.tecto.2012.06.006).\n",
    "\n",
    "> 👉 The creep of rocks also shows dependence on other variables such as grain size, pressure or water/melt content. For the sake of simplicity, we will omit these variables for now to define our flow law, in more advanced tutorials we will see how they affect rock flow and how we can introduce them in our flow law.\n",
    "\n",
    "Most of the time, we want to obtain the minimum differential stress required to deform a rock at a given strain rate. This is because usually what we can measure in nature is the strain rate (e.g. via GPS or the rock record and geochronology). If we clear the differential stress we get\n",
    "\n",
    "$$\n",
    "\\sigma_d = \\dot{\\epsilon}^{(1/n)} A^{-1/n} \\space exp \\left( \\frac{E}{nRT} \\right)\n",
    "$$\n",
    "\n",
    "this is the equation that we will implement next to estimate our first crustal strength envelope."
   ]
  },
  {
   "cell_type": "code",
   "execution_count": 3,
   "metadata": {},
   "outputs": [],
   "source": [
    "def power_law_creep(strain_rate, n, A, E, T):\n",
    "    \"\"\" Return the necessary differential stress (Tresca criterion) in\n",
    "    MPa for permanently deforming a polycrystalline material at a given\n",
    "    strain rate and environmental conditions (only considering T). This\n",
    "    is a simplified flow law that ignores the effect of any variable other\n",
    "    than temperature and material-related constants.\n",
    "\n",
    "    Parameters (scalars and/or arrays, all positive values)\n",
    "    ----------\n",
    "    strain_rate : strain rate [s**-1]........scalar or array\n",
    "    n : stress exponent......................scalar\n",
    "    A : material constant [MPa**-n s**-1]....scalar\n",
    "    E : activation energy [J mol**-1]........scalar\n",
    "    T : absolute temperature [K].............scalar or array\n",
    "\n",
    "    Assumptions\n",
    "    -----------\n",
    "    - Steady-state creep\n",
    "    - Low to moderate stress regime (< 200 MPa)\n",
    "    - The effect of pressure, grain size, water content, and\n",
    "    partial melt is ignored\n",
    "    \"\"\"\n",
    "    # set universal gas constant [J mol**-1 K**-1]\n",
    "    R = 8.3144626 \n",
    "    \n",
    "    return (strain_rate * np.exp(E / (R * T)) / A)**(1 / n)"
   ]
  },
  {
   "cell_type": "markdown",
   "metadata": {},
   "source": [
    "## Step 2: Estimate and plot a power-law creep envelope for the crust"
   ]
  },
  {
   "cell_type": "markdown",
   "metadata": {},
   "source": [
    "The first step is to load some Python functions contained in the script folder using the ``%run`` command. These will be used later to build the power-law creep envelopes."
   ]
  },
  {
   "cell_type": "code",
   "execution_count": 4,
   "metadata": {},
   "outputs": [
    {
     "name": "stdout",
     "output_type": "stream",
     "text": [
      "functions loaded from 'flow_laws_params.py': \n",
      " quartz,\n",
      " olivine, \n",
      " olivine_Idrissi \n",
      "\n",
      "funtions loaded from 'thermal_functions.py': \n",
      " turcotte_schubert_model \n",
      " thermal_conductivity\n"
     ]
    }
   ],
   "source": [
    "# flow_laws_params.py contains the experimental estimates of the different parameters of the power-law creep equation\n",
    "%run scripts/flow_laws_params.py\n",
    "\n",
    "# thermal_functions contains the functions required to estimate a stable geotherm. See the \"stable geotherm\" notebook for details.\n",
    "%run scripts/thermal_functions.py"
   ]
  },
  {
   "cell_type": "markdown",
   "metadata": {},
   "source": [
    "Set some parameters of the model"
   ]
  },
  {
   "cell_type": "code",
   "execution_count": 5,
   "metadata": {},
   "outputs": [],
   "source": [
    "moho = 38.8      # Continental crust thickness [m], average from Hacker et al. (2015)\n",
    "T0 = 7.5         # surface temperature (taken from the KTB superdeep borehole)\n",
    "ro_crust = 2750  # average rock density in the crust [kg/m**3]\n",
    "g = 9.80665      # average gravitational acceleration [m/s**2]\n",
    "\n",
    "# Set the average heat parameters for the crust.\n",
    "# We will store the different parameters within an object called heat_crust\n",
    "heat_crust = SimpleNamespace(Jq=65,  A=0.97, K=2.51)"
   ]
  },
  {
   "cell_type": "markdown",
   "metadata": {},
   "source": [
    "Now, let's create an array with the depths and estimate the corresponding temperatures (a.k.a the geotherm) using the Turcote and Schubert model"
   ]
  },
  {
   "cell_type": "code",
   "execution_count": 6,
   "metadata": {},
   "outputs": [
    {
     "data": {
      "text/html": [
       "<div>\n",
       "<style scoped>\n",
       "    .dataframe tbody tr th:only-of-type {\n",
       "        vertical-align: middle;\n",
       "    }\n",
       "\n",
       "    .dataframe tbody tr th {\n",
       "        vertical-align: top;\n",
       "    }\n",
       "\n",
       "    .dataframe thead th {\n",
       "        text-align: right;\n",
       "    }\n",
       "</style>\n",
       "<table border=\"1\" class=\"dataframe\">\n",
       "  <thead>\n",
       "    <tr style=\"text-align: right;\">\n",
       "      <th></th>\n",
       "      <th>depths_km</th>\n",
       "      <th>Tmodel1_C</th>\n",
       "    </tr>\n",
       "  </thead>\n",
       "  <tbody>\n",
       "    <tr>\n",
       "      <th>0</th>\n",
       "      <td>0.00</td>\n",
       "      <td>7.50</td>\n",
       "    </tr>\n",
       "    <tr>\n",
       "      <th>1</th>\n",
       "      <td>0.01</td>\n",
       "      <td>7.76</td>\n",
       "    </tr>\n",
       "    <tr>\n",
       "      <th>2</th>\n",
       "      <td>0.02</td>\n",
       "      <td>8.02</td>\n",
       "    </tr>\n",
       "    <tr>\n",
       "      <th>3</th>\n",
       "      <td>0.03</td>\n",
       "      <td>8.28</td>\n",
       "    </tr>\n",
       "    <tr>\n",
       "      <th>4</th>\n",
       "      <td>0.04</td>\n",
       "      <td>8.54</td>\n",
       "    </tr>\n",
       "    <tr>\n",
       "      <th>...</th>\n",
       "      <td>...</td>\n",
       "      <td>...</td>\n",
       "    </tr>\n",
       "    <tr>\n",
       "      <th>3875</th>\n",
       "      <td>38.76</td>\n",
       "      <td>720.95</td>\n",
       "    </tr>\n",
       "    <tr>\n",
       "      <th>3876</th>\n",
       "      <td>38.77</td>\n",
       "      <td>721.06</td>\n",
       "    </tr>\n",
       "    <tr>\n",
       "      <th>3877</th>\n",
       "      <td>38.78</td>\n",
       "      <td>721.17</td>\n",
       "    </tr>\n",
       "    <tr>\n",
       "      <th>3878</th>\n",
       "      <td>38.79</td>\n",
       "      <td>721.28</td>\n",
       "    </tr>\n",
       "    <tr>\n",
       "      <th>3879</th>\n",
       "      <td>38.80</td>\n",
       "      <td>721.39</td>\n",
       "    </tr>\n",
       "  </tbody>\n",
       "</table>\n",
       "<p>3880 rows × 2 columns</p>\n",
       "</div>"
      ],
      "text/plain": [
       "      depths_km  Tmodel1_C\n",
       "0          0.00       7.50\n",
       "1          0.01       7.76\n",
       "2          0.02       8.02\n",
       "3          0.03       8.28\n",
       "4          0.04       8.54\n",
       "...         ...        ...\n",
       "3875      38.76     720.95\n",
       "3876      38.77     721.06\n",
       "3877      38.78     721.17\n",
       "3878      38.79     721.28\n",
       "3879      38.80     721.39\n",
       "\n",
       "[3880 rows x 2 columns]"
      ]
     },
     "execution_count": 6,
     "metadata": {},
     "output_type": "execute_result"
    }
   ],
   "source": [
    "# generate a linear spaced array of depths every 10 m\n",
    "depths = np.linspace(start=0, stop=moho, num=3880)\n",
    "\n",
    "# call the \"turcotte_schubert_model\" and pass the different arguments in order\n",
    "T_crust = turcotte_schubert_model(depths, thermal=(T0, heat_crust.Jq, heat_crust.A, heat_crust.K))\n",
    "\n",
    "# create a pandas dataframe (tabular-like data)\n",
    "dataset = pd.DataFrame({'depths_km': depths,\n",
    "                        'Tmodel1_C': T_crust})\n",
    "dataset.round(2)"
   ]
  },
  {
   "cell_type": "code",
   "execution_count": 7,
   "metadata": {},
   "outputs": [
    {
     "data": {
      "text/html": [
       "<div>\n",
       "<style scoped>\n",
       "    .dataframe tbody tr th:only-of-type {\n",
       "        vertical-align: middle;\n",
       "    }\n",
       "\n",
       "    .dataframe tbody tr th {\n",
       "        vertical-align: top;\n",
       "    }\n",
       "\n",
       "    .dataframe thead th {\n",
       "        text-align: right;\n",
       "    }\n",
       "</style>\n",
       "<table border=\"1\" class=\"dataframe\">\n",
       "  <thead>\n",
       "    <tr style=\"text-align: right;\">\n",
       "      <th></th>\n",
       "      <th>depths_km</th>\n",
       "      <th>Tmodel1_C</th>\n",
       "      <th>pressure_MPa</th>\n",
       "    </tr>\n",
       "  </thead>\n",
       "  <tbody>\n",
       "    <tr>\n",
       "      <th>0</th>\n",
       "      <td>0.00</td>\n",
       "      <td>7.50</td>\n",
       "      <td>0.00</td>\n",
       "    </tr>\n",
       "    <tr>\n",
       "      <th>1</th>\n",
       "      <td>0.01</td>\n",
       "      <td>7.76</td>\n",
       "      <td>0.27</td>\n",
       "    </tr>\n",
       "    <tr>\n",
       "      <th>2</th>\n",
       "      <td>0.02</td>\n",
       "      <td>8.02</td>\n",
       "      <td>0.54</td>\n",
       "    </tr>\n",
       "    <tr>\n",
       "      <th>3</th>\n",
       "      <td>0.03</td>\n",
       "      <td>8.28</td>\n",
       "      <td>0.81</td>\n",
       "    </tr>\n",
       "    <tr>\n",
       "      <th>4</th>\n",
       "      <td>0.04</td>\n",
       "      <td>8.54</td>\n",
       "      <td>1.08</td>\n",
       "    </tr>\n",
       "    <tr>\n",
       "      <th>...</th>\n",
       "      <td>...</td>\n",
       "      <td>...</td>\n",
       "      <td>...</td>\n",
       "    </tr>\n",
       "    <tr>\n",
       "      <th>3875</th>\n",
       "      <td>38.76</td>\n",
       "      <td>720.95</td>\n",
       "      <td>1045.29</td>\n",
       "    </tr>\n",
       "    <tr>\n",
       "      <th>3876</th>\n",
       "      <td>38.77</td>\n",
       "      <td>721.06</td>\n",
       "      <td>1045.56</td>\n",
       "    </tr>\n",
       "    <tr>\n",
       "      <th>3877</th>\n",
       "      <td>38.78</td>\n",
       "      <td>721.17</td>\n",
       "      <td>1045.83</td>\n",
       "    </tr>\n",
       "    <tr>\n",
       "      <th>3878</th>\n",
       "      <td>38.79</td>\n",
       "      <td>721.28</td>\n",
       "      <td>1046.10</td>\n",
       "    </tr>\n",
       "    <tr>\n",
       "      <th>3879</th>\n",
       "      <td>38.80</td>\n",
       "      <td>721.39</td>\n",
       "      <td>1046.37</td>\n",
       "    </tr>\n",
       "  </tbody>\n",
       "</table>\n",
       "<p>3880 rows × 3 columns</p>\n",
       "</div>"
      ],
      "text/plain": [
       "      depths_km  Tmodel1_C  pressure_MPa\n",
       "0          0.00       7.50          0.00\n",
       "1          0.01       7.76          0.27\n",
       "2          0.02       8.02          0.54\n",
       "3          0.03       8.28          0.81\n",
       "4          0.04       8.54          1.08\n",
       "...         ...        ...           ...\n",
       "3875      38.76     720.95       1045.29\n",
       "3876      38.77     721.06       1045.56\n",
       "3877      38.78     721.17       1045.83\n",
       "3878      38.79     721.28       1046.10\n",
       "3879      38.80     721.39       1046.37\n",
       "\n",
       "[3880 rows x 3 columns]"
      ]
     },
     "execution_count": 7,
     "metadata": {},
     "output_type": "execute_result"
    }
   ],
   "source": [
    "# estimate the pressure gradient (assuming constant density in the crust)\n",
    "dataset['pressure_MPa'] = (ro_crust * g * dataset['depths_km']) / 1e3  # /1e3 to obtain MPa\n",
    "dataset.round(2)"
   ]
  },
  {
   "cell_type": "markdown",
   "metadata": {},
   "source": [
    "In the continental crust, it is considered as a first approximation that quartz controls deformation. Partly because it is one of the dominant mineral phases along with feldspars but is much less resistant than feldspars under similar conditions. So to simplify things once again let's use the experimental values of quartz deformation to model the strength of the continental crust. Let see which flow laws parameters are available within the quartz function"
   ]
  },
  {
   "cell_type": "code",
   "execution_count": 8,
   "metadata": {},
   "outputs": [
    {
     "name": "stdout",
     "output_type": "stream",
     "text": [
      "Available flow laws:\n",
      "'HTD' from Hirth et al. (2004)\n",
      "'LP_wet' from Luan and Paterson (1992)\n",
      "'GT_wet' from Gleason and Tullis (1995)\n",
      "'HK_wet' from Holyoke and Kronenberg (2010)\n",
      "'RB_wet' from Rutter and Brodie (2004)\n"
     ]
    }
   ],
   "source": [
    "quartz()"
   ]
  },
  {
   "cell_type": "markdown",
   "metadata": {},
   "source": [
    "Here, we will use the Hirth et al. (2004) and the Gleason and Tullis (1995) flow laws for comparison. The function ``quartz()`` returns the stress exponent ($n$), the activation energy ($E$) in $J mol^{-1}$, and the material constant ($A$) in $MPa^{-n} s^{-1}$ of the available flow laws."
   ]
  },
  {
   "cell_type": "code",
   "execution_count": 9,
   "metadata": {},
   "outputs": [
    {
     "data": {
      "text/plain": [
       "namespace(n=4.0, E=223000, A=0.00011, ref='Gleason and Tullis (1995)')"
      ]
     },
     "execution_count": 9,
     "metadata": {},
     "output_type": "execute_result"
    }
   ],
   "source": [
    "Hirth = quartz('HTD')\n",
    "Gleason = quartz('GT_wet')\n",
    "\n",
    "# check that we obtained the three values\n",
    "Gleason"
   ]
  },
  {
   "cell_type": "markdown",
   "metadata": {},
   "source": [
    "estimate the differential stress at steady-state using 1.0e-14 $s^{-1}$ as the reference average shear strain rate in the ductile lithosphere."
   ]
  },
  {
   "cell_type": "code",
   "execution_count": 10,
   "metadata": {},
   "outputs": [
    {
     "data": {
      "text/html": [
       "<div>\n",
       "<style scoped>\n",
       "    .dataframe tbody tr th:only-of-type {\n",
       "        vertical-align: middle;\n",
       "    }\n",
       "\n",
       "    .dataframe tbody tr th {\n",
       "        vertical-align: top;\n",
       "    }\n",
       "\n",
       "    .dataframe thead th {\n",
       "        text-align: right;\n",
       "    }\n",
       "</style>\n",
       "<table border=\"1\" class=\"dataframe\">\n",
       "  <thead>\n",
       "    <tr style=\"text-align: right;\">\n",
       "      <th></th>\n",
       "      <th>depths_km</th>\n",
       "      <th>Tmodel1_C</th>\n",
       "      <th>pressure_MPa</th>\n",
       "      <th>model_HTD</th>\n",
       "      <th>model_GT</th>\n",
       "    </tr>\n",
       "  </thead>\n",
       "  <tbody>\n",
       "    <tr>\n",
       "      <th>0</th>\n",
       "      <td>0.00</td>\n",
       "      <td>7.50</td>\n",
       "      <td>0.00</td>\n",
       "      <td>381447.54</td>\n",
       "      <td>73392481.57</td>\n",
       "    </tr>\n",
       "    <tr>\n",
       "      <th>1</th>\n",
       "      <td>0.01</td>\n",
       "      <td>7.76</td>\n",
       "      <td>0.27</td>\n",
       "      <td>376394.30</td>\n",
       "      <td>71793380.53</td>\n",
       "    </tr>\n",
       "    <tr>\n",
       "      <th>2</th>\n",
       "      <td>0.02</td>\n",
       "      <td>8.02</td>\n",
       "      <td>0.54</td>\n",
       "      <td>371417.86</td>\n",
       "      <td>70232202.00</td>\n",
       "    </tr>\n",
       "    <tr>\n",
       "      <th>3</th>\n",
       "      <td>0.03</td>\n",
       "      <td>8.28</td>\n",
       "      <td>0.81</td>\n",
       "      <td>366516.93</td>\n",
       "      <td>68707976.92</td>\n",
       "    </tr>\n",
       "    <tr>\n",
       "      <th>4</th>\n",
       "      <td>0.04</td>\n",
       "      <td>8.54</td>\n",
       "      <td>1.08</td>\n",
       "      <td>361690.21</td>\n",
       "      <td>67219762.71</td>\n",
       "    </tr>\n",
       "    <tr>\n",
       "      <th>...</th>\n",
       "      <td>...</td>\n",
       "      <td>...</td>\n",
       "      <td>...</td>\n",
       "      <td>...</td>\n",
       "      <td>...</td>\n",
       "    </tr>\n",
       "    <tr>\n",
       "      <th>3875</th>\n",
       "      <td>38.76</td>\n",
       "      <td>720.95</td>\n",
       "      <td>1045.29</td>\n",
       "      <td>11.84</td>\n",
       "      <td>2.62</td>\n",
       "    </tr>\n",
       "    <tr>\n",
       "      <th>3876</th>\n",
       "      <td>38.77</td>\n",
       "      <td>721.06</td>\n",
       "      <td>1045.56</td>\n",
       "      <td>11.83</td>\n",
       "      <td>2.62</td>\n",
       "    </tr>\n",
       "    <tr>\n",
       "      <th>3877</th>\n",
       "      <td>38.78</td>\n",
       "      <td>721.17</td>\n",
       "      <td>1045.83</td>\n",
       "      <td>11.83</td>\n",
       "      <td>2.62</td>\n",
       "    </tr>\n",
       "    <tr>\n",
       "      <th>3878</th>\n",
       "      <td>38.79</td>\n",
       "      <td>721.28</td>\n",
       "      <td>1046.10</td>\n",
       "      <td>11.82</td>\n",
       "      <td>2.62</td>\n",
       "    </tr>\n",
       "    <tr>\n",
       "      <th>3879</th>\n",
       "      <td>38.80</td>\n",
       "      <td>721.39</td>\n",
       "      <td>1046.37</td>\n",
       "      <td>11.82</td>\n",
       "      <td>2.62</td>\n",
       "    </tr>\n",
       "  </tbody>\n",
       "</table>\n",
       "<p>3880 rows × 5 columns</p>\n",
       "</div>"
      ],
      "text/plain": [
       "      depths_km  Tmodel1_C  pressure_MPa  model_HTD     model_GT\n",
       "0          0.00       7.50          0.00  381447.54  73392481.57\n",
       "1          0.01       7.76          0.27  376394.30  71793380.53\n",
       "2          0.02       8.02          0.54  371417.86  70232202.00\n",
       "3          0.03       8.28          0.81  366516.93  68707976.92\n",
       "4          0.04       8.54          1.08  361690.21  67219762.71\n",
       "...         ...        ...           ...        ...          ...\n",
       "3875      38.76     720.95       1045.29      11.84         2.62\n",
       "3876      38.77     721.06       1045.56      11.83         2.62\n",
       "3877      38.78     721.17       1045.83      11.83         2.62\n",
       "3878      38.79     721.28       1046.10      11.82         2.62\n",
       "3879      38.80     721.39       1046.37      11.82         2.62\n",
       "\n",
       "[3880 rows x 5 columns]"
      ]
     },
     "execution_count": 10,
     "metadata": {},
     "output_type": "execute_result"
    }
   ],
   "source": [
    "dataset['model_HTD'] = power_law_creep(strain_rate=1e-14,\n",
    "                                       n=Hirth.n,\n",
    "                                       A=Hirth.A,\n",
    "                                       E=Hirth.E,\n",
    "                                       T=dataset['Tmodel1_C'] + 273.15,  # convert C to K\n",
    "                                      )\n",
    "\n",
    "dataset['model_GT'] = power_law_creep(strain_rate=1e-14,\n",
    "                                      n=Gleason.n,\n",
    "                                      A=Gleason.A,\n",
    "                                      E=Gleason.E,\n",
    "                                      T=dataset['Tmodel1_C'] + 273.15,\n",
    "                                      )\n",
    "\n",
    "dataset.round(2)"
   ]
  },
  {
   "cell_type": "markdown",
   "metadata": {},
   "source": [
    "Lastly, we are going to plot the \"Goetze criterion\" to use as a reference for the brittle field in our figure. The _Goetze criterion_, suggested by C. Goetze based on Edmond and Paterson's (1972) data, defines the condition at which the differential stress needed to produce plastic flow (i.e. the yield stress) becomes higher than the confining pressure and thus high enough for crack nucleation.\n",
    "$$\n",
    "\\sigma_{1} - \\sigma_{3} = P = \\rho g h\n",
    "$$"
   ]
  },
  {
   "cell_type": "code",
   "execution_count": 11,
   "metadata": {},
   "outputs": [
    {
     "data": {
      "image/png": "[encoded data removed]",
      "text/plain": [
       "<Figure size 324x432 with 1 Axes>"
      ]
     },
     "metadata": {},
     "output_type": "display_data"
    }
   ],
   "source": [
    "# plot the geotherm for the entire lithosphere\n",
    "fig1, ax = plt.subplots(figsize=(4.5, 6))\n",
    "\n",
    "# tweak the figure axe so that the depth is shown on the y-axis downwards\n",
    "ax.invert_yaxis()\n",
    "ax.xaxis.tick_top()\n",
    "ax.xaxis.set_label_position('top')\n",
    "\n",
    "# plot the strength envelopes\n",
    "ax.plot(dataset['pressure_MPa'], dataset['depths_km'], label='Goetze criterion')\n",
    "ax.plot(dataset['model_HTD'], dataset['depths_km'], label='Hirth model')\n",
    "ax.plot(dataset['model_GT'], dataset['depths_km'], label='Gleason-Tullis model')\n",
    "ax.plot([0, 1100], [moho, moho], color='black', linestyle='dashed')\n",
    "\n",
    "ax.set(xlabel='differential stress MPa', ylabel='Depth (km)')\n",
    "ax.set_xlim(left=-20, right=620)\n",
    "_ = ax.legend(loc='lower right', fontsize=15)"
   ]
  },
  {
   "cell_type": "markdown",
   "metadata": {},
   "source": [
    "From this figure we can see that:\n",
    "\n",
    "- The frictional-plastic transition in the continental crust is located at a depth of between 12 and 14 km (assuming that our model of stable geotherm and the deformation rate are realistic).\n",
    "- For plastic flow deformation of quartz-rich rocks right at the frictional-plastic transition, a differential stress of about 300 MPa is required. \n",
    "- Using the same parameters, Hirth et al.'s model produces shallower frictional-plastic transitions and requires slightly lower differential stress values than Gleason & Tullis' model in this transition. On the other hand, the Gleason & Tullis' model predicts a less resistant lower crust.\n",
    "\n",
    "In the following notebooks, we will test more models and different parameters, include the lithospheric mantle, and discuss how realistic the predictions are."
   ]
  },
  {
   "cell_type": "code",
   "execution_count": 12,
   "metadata": {},
   "outputs": [
    {
     "name": "stdout",
     "output_type": "stream",
     "text": [
      "Notebook tested in 2022-06-02 using:\n",
      "Python 3.9.12 (main, Apr  4 2022, 05:22:27) [MSC v.1916 64 bit (AMD64)]\n",
      "Numpy 1.22.3\n",
      "Matplotlib 3.5.1\n",
      "Pandas 1.4.2\n"
     ]
    }
   ],
   "source": [
    "import sys\n",
    "from datetime import date    \n",
    "today = date.today().isoformat()\n",
    "\n",
    "print(f'Notebook tested in {today} using:')\n",
    "print('Python', sys.version)\n",
    "print('Numpy', np.__version__)\n",
    "print('Matplotlib', mpl.__version__)\n",
    "print('Pandas', pd.__version__)"
   ]
  }
 ],
 "metadata": {
  "interpreter": {
   "hash": "073408933f31e8ac7f6b4bf29a6f48e1a2f613d7d5b6e5c6c58fd8fdc8389e42"
  },
  "kernelspec": {
   "display_name": "Python 3 (ipykernel)",
   "language": "python",
   "name": "python3"
  },
  "language_info": {
   "codemirror_mode": {
    "name": "ipython",
    "version": 3
   },
   "file_extension": ".py",
   "mimetype": "text/x-python",
   "name": "python",
   "nbconvert_exporter": "python",
   "pygments_lexer": "ipython3",
   "version": "3.9.12"
  }
 },
 "nbformat": 4,
 "nbformat_minor": 4
}
