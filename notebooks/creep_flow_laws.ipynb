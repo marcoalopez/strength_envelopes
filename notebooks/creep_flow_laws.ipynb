{
 "cells": [
  {
   "cell_type": "markdown",
   "metadata": {},
   "source": [
    "# Power-law creep envelopes: first example\n",
    "\n",
    "Copyright 2022 Marco A. Lopez-Sanchez.  \n",
    "Content under [Creative Commons Attribution license CC-BY 4.0](https://creativecommons.org/licenses/by/4.0/), code under [Mozilla Public License 2.0](https://www.mozilla.org/en-US/MPL/2.0/).\n",
    "\n",
    "> **Goal**: Understand flow laws and estimate simple power-law creep envelopes in the continental crust."
   ]
  },
  {
   "cell_type": "code",
   "execution_count": 1,
   "metadata": {},
   "outputs": [],
   "source": [
    "# import the required Python scientific libraries\n",
    "import numpy as np\n",
    "import pandas as pd\n",
    "import matplotlib.pyplot as plt\n",
    "from types import SimpleNamespace\n",
    "\n",
    "# set a custom figure style (optional, you can comment on this whole block)\n",
    "import matplotlib as mpl\n",
    "mpl.style.use('fivethirtyeight')\n",
    "mpl.rcParams['figure.facecolor'] = 'white'\n",
    "mpl.rcParams['axes.facecolor'] = 'white'\n",
    "mpl.rcParams['axes.edgecolor'] = 'white'"
   ]
  },
  {
   "cell_type": "markdown",
   "metadata": {},
   "source": [
    "## Introduction\n",
    "\n",
    "At depths greater than 10-15 km, rocks are at temperatures and pressures high enough to flow under shear stresses deformed without losing coherence (i.e. without fracturing). To describe and predict how rocks deform under such conditions, earth scientists use mathematical rules that relate stress to strain rate. We called such relation a **flow law**, _deformation law_, or, if referred to a specific material, a *constitutive equation*, the adjective _constitutive_ refers to the constitution of the material.\n",
    "\n",
    "In the laboratory, polycrystalline solids such as rocks (quarzites, peridotites, ice) or engineering materials such as metals/alloys or ceramics...TODO show that at temperatures above half the melting temperature $>0.5T_m$ the strain rate $\\dot{\\epsilon}$ is proportional to the differential stress raised to some power of n ($\\dot{\\epsilon} \\propto \\sigma^n_d$).\n",
    "\n",
    " as long as the shear stress is above a threshold value called the [yield stress](https://en.wikipedia.org/wiki/Yield_(engineering)). Below that limit, however, an elastic (recoverable) deformation occurs. This behaviour is generally referred to as [plasticity](https://en.wikipedia.org/wiki/Plasticity_(physics)) or plastic deformation. The two most important features of plastic deformation are that **once the yield stress is exceeded** the final deformation depends mainly on time and temperature (which strongly affects strain rates). It is therefore said that plasticity is a process with a strong dependence on time and temperature."
   ]
  },
  {
   "cell_type": "markdown",
   "metadata": {},
   "source": [
    "## Step 1: The power-law creep approximation\n",
    "\n",
    "Rock and single-crystal deformation experiments show that at low to moderate stresses (<200 MPa), those expected to operate in the aseismic (ductile) lithosphere, the relationship between differential stress and strain rate fits a power law relationship referred to as the _power-law creep_, i.e. that strain rate ($\\dot{\\epsilon}$) is proportional to the diferrential stress ($\\sigma_d$) raised to a number as follows\n",
    "\n",
    "$$\n",
    "\\dot{\\epsilon} \\propto \\sigma^n_d\n",
    "$$\n",
    "\n",
    "where the stress exponent ($n$) reported values in rocks that lie in the range 3 to 5.\n",
    "\n",
    "TODO\n",
    "\n",
    "$$\n",
    "\\dot{\\epsilon} = \\sigma^n_d A \\space exp \\left( \\frac{E}{RT} \\right)\n",
    "$$\n",
    "  \n",
    "$$\n",
    "\\sigma_d = \\dot{\\epsilon}^{(1/n)} A^{-1/n} \\space exp \\left( \\frac{E}{nRT} \\right)\n",
    "$$\n",
    "\n",
    "where $\\sigma_d$ is the differential stress in _MPa_ and $n$ the power-law exponent, $\\dot{\\epsilon}$ is the strain rate in $s^{-1}$ which considers the _time dependence_ of the deformation, and $A \\space exp(E/RT)$ is the Arrhenius equation (see box below for details) that considers the _temperature dependence_ of the deformation, the higher the temperature the higher the strain rate for similar differential stress.\n",
    "\n",
    "> The [Arrhenius equation](https://en.wikipedia.org/wiki/Arrhenius_equation) is a formula proposed by [Svante Arrhenius](https://en.wikipedia.org/wiki/Svante_Arrhenius) to model reaction rates, i.e. the frequency of events per second that result in a reaction. This equation, however, is used in a general way for modelling any process involving rates and dependence on temperature such as for example viscosity in fluids or plasticity in solids. In our case, it will account for the frequency of events that lead to a permanent crystal lattice deformation. The equation consists of two main parts, the _pre-exponential factor_ $(A)$ which in a chemical reaction accounts for the number of events per second leading to or not to a reaction (in our case leading to or not to a permanent crystal lattice deformation), and the _exponential factor_ $exp(E/RT)$ that accounts for the probability that any given event will result in a chemical reaction (or permanent crystal lattice deformation). The _exponential factor_ includes the _activation energy_ $(E)$ needed for process being modelled to occur in $J mol^{-1}$, the _universal gas constant_ $(R)$ in $J mol^{-1} K^{-1}$, and the _absolute temperature_ $(T)$ in kelvins. The _pre-exponential factor_ $(A)$ and the _activation energy_ $(E)$ are both material-specific variables and are estimated in the laboratory for different types of rock.\n",
    "\n",
    "At moderate differential stresses (20-200 MPa) and temperatures above half the melting temperature $>0.5T_m$, most rock types in the laboratory usually provide values of $n$ between 3 and 5. At these conditions, rock samples typically develop dynamic recrystallization and crystallographic preferred orientation (CPO), both typical features of a deformation controlled by the movement of dislocations known as [dislocation creep](https://en.wikipedia.org/wiki/Dislocation_creep). This observation is in excellent agreement with what is observed in nature, where the most typical feature in natural ductile shear zones at depths below 10-15 km is the presence of fine-grained rocks known as [mylonites](https://en.wikipedia.org/wiki/Mylonite) characterized by these very same microstructures. Hence, geophysicists usually use power-law equations with $n$ values typical of the dislocation creep to model the deformation of the non-frictional part of the lithosphere, a fairly reliable first approximation since most of the deformation in the lithosphere is accommodated through [crustal-scale shear zones](https://doi.org/10.1016/j.tecto.2012.06.006).\n",
    "\n",
    "\n",
    "### The effect of pressure, grain size, and water fugacity\n",
    "\n",
    "Note2self → maybe this is best discussed in a more advanced notebook and keep things simple here.\n",
    "\n",
    "**Pressure**\n",
    "\n",
    "The effect of pressure on the power law creep approximation is relatively small and thus commonly ignored at crustal depths (TODO → add refs). At mantle depths the effect of pressure becomes important and should be considered, increasing the strain rate with pressure for a constant differential stress (TODO → add refs). \n",
    "\n",
    "**Grain size**  \n",
    "TODO\n",
    "\n",
    "**Water fugacity**  \n",
    "TODO\n",
    "\n",
    "we finally obtain a power-law relation like this\n",
    "\n",
    "$$\n",
    "\\dot{\\epsilon} = \\sigma^n_d \\space d^{-m} \\space f_{H_2O}^r \\space A \\space exp \\left( \\frac{E + PV}{RT} \\right)\n",
    "$$\n",
    "\n",
    "where $d$ is the average grain size in μm and $m$ the grain size exponent, $f_{H_2O}$ and $r$ are the water fugacity (water molecules per 1e6 Si atoms) and the water fugacity exponent, respectively, and $P$ and $V$ the pressure and the activation volume per mole. Note that if $m$ and $r$ equal zero, the effect of grain size and/or water fugacity is ignored."
   ]
  },
  {
   "cell_type": "code",
   "execution_count": 2,
   "metadata": {},
   "outputs": [],
   "source": [
    "def power_law_creep(strain_rate, A, n, exp_fact):\n",
    "    \"\"\" Return the necessary differential stress (Tresca criterion) in\n",
    "    MPa for permanently deforming a polycrystalline material at a given\n",
    "    environmental conditions (only considering T, P).\n",
    "\n",
    "    Parameters (scalars and tuples, all positive values)\n",
    "    ----------\n",
    "    srate : strain rate [s**-1]\n",
    "    n : stress exponent\n",
    "    A : material constant [MPa**-n s**-1]\n",
    "    exp_fact : tuple of dim 4 (E, T, P, V)\n",
    "        E : activation energy [J mol**-1]\n",
    "        T : absolute temperature [K]\n",
    "        P : pressure [MPa]\n",
    "        V : activation volume per mol [m**3 mol**-1]\n",
    "\n",
    "    Assumptions\n",
    "    -----------\n",
    "    - Steady-state creep\n",
    "    - Low to moderate stress regime (< 200 MPa)\n",
    "    - The effect of grain size, water content, and partial melt is ignored\n",
    "    \"\"\"\n",
    "    # set universal gas constant [J mol**-1 K**-1]\n",
    "    R = 8.3144626 \n",
    "    \n",
    "    # extract parameters\n",
    "    E, T, P, V = exp_fact\n",
    "\n",
    "    return (strain_rate * np.exp((E + P * V) / (R * T)) / A)**(1 / n)"
   ]
  },
  {
   "cell_type": "markdown",
   "metadata": {},
   "source": [
    "## Step 2: Estimate and plot a power-law creep envelope for the crust"
   ]
  },
  {
   "cell_type": "markdown",
   "metadata": {},
   "source": [
    "The first step is to load some Python functions contained in the script folder using the ``%run`` command. These will be used later to build the power-law creep envelopes."
   ]
  },
  {
   "cell_type": "code",
   "execution_count": 3,
   "metadata": {},
   "outputs": [
    {
     "name": "stdout",
     "output_type": "stream",
     "text": [
      "functions loaded from 'flow_laws_params.py': \n",
      " quartz,\n",
      " olivine, \n",
      " olivine_Idrissi \n",
      "\n",
      "funtions loaded from 'thermal_functions.py': \n",
      " turcotte_schubert_model \n",
      " thermal_conductivity\n"
     ]
    }
   ],
   "source": [
    "# flow_laws_params.py contains the experimental estimates of the different parameters of the power-law creep equation\n",
    "%run scripts/flow_laws_params.py\n",
    "\n",
    "# thermal_functions contains the functions required to estimate a stable geotherm. See the \"stable geotherm\" notebook for details.\n",
    "%run scripts/thermal_functions.py"
   ]
  },
  {
   "cell_type": "markdown",
   "metadata": {},
   "source": [
    "Set some parameters of the model"
   ]
  },
  {
   "cell_type": "code",
   "execution_count": 4,
   "metadata": {},
   "outputs": [],
   "source": [
    "moho = 38.8      # Continental crust thickness [m], average from Hacker et al. (2015)\n",
    "T0 = 7.5         # surface temperature (taken from the KTB superdeep borehole)\n",
    "ro_crust = 2750  # average rock density in the crust [kg/m**3]\n",
    "g = 9.80665      # average gravitational acceleration [m/s**2]\n",
    "\n",
    "# Set the average heat parameters for the crust.\n",
    "# We will store the different parameters within an object called heat_crust\n",
    "heat_crust = SimpleNamespace(Jq=65,  A=0.97, K=2.51)"
   ]
  },
  {
   "cell_type": "markdown",
   "metadata": {},
   "source": [
    "Now, let's create an array with the depths and estimate the corresponding temperatures (a.k.a the geotherm) using the Turcote and Schubert model"
   ]
  },
  {
   "cell_type": "code",
   "execution_count": 5,
   "metadata": {},
   "outputs": [
    {
     "data": {
      "text/html": [
       "<div>\n",
       "<style scoped>\n",
       "    .dataframe tbody tr th:only-of-type {\n",
       "        vertical-align: middle;\n",
       "    }\n",
       "\n",
       "    .dataframe tbody tr th {\n",
       "        vertical-align: top;\n",
       "    }\n",
       "\n",
       "    .dataframe thead th {\n",
       "        text-align: right;\n",
       "    }\n",
       "</style>\n",
       "<table border=\"1\" class=\"dataframe\">\n",
       "  <thead>\n",
       "    <tr style=\"text-align: right;\">\n",
       "      <th></th>\n",
       "      <th>depths_km</th>\n",
       "      <th>Tmodel1_C</th>\n",
       "    </tr>\n",
       "  </thead>\n",
       "  <tbody>\n",
       "    <tr>\n",
       "      <th>0</th>\n",
       "      <td>0.000000</td>\n",
       "      <td>7.500000</td>\n",
       "    </tr>\n",
       "    <tr>\n",
       "      <th>1</th>\n",
       "      <td>0.010003</td>\n",
       "      <td>7.759012</td>\n",
       "    </tr>\n",
       "    <tr>\n",
       "      <th>2</th>\n",
       "      <td>0.020005</td>\n",
       "      <td>8.017984</td>\n",
       "    </tr>\n",
       "    <tr>\n",
       "      <th>3</th>\n",
       "      <td>0.030008</td>\n",
       "      <td>8.276919</td>\n",
       "    </tr>\n",
       "    <tr>\n",
       "      <th>4</th>\n",
       "      <td>0.040010</td>\n",
       "      <td>8.535814</td>\n",
       "    </tr>\n",
       "    <tr>\n",
       "      <th>...</th>\n",
       "      <td>...</td>\n",
       "      <td>...</td>\n",
       "    </tr>\n",
       "    <tr>\n",
       "      <th>3875</th>\n",
       "      <td>38.759990</td>\n",
       "      <td>720.952582</td>\n",
       "    </tr>\n",
       "    <tr>\n",
       "      <th>3876</th>\n",
       "      <td>38.769992</td>\n",
       "      <td>721.061766</td>\n",
       "    </tr>\n",
       "    <tr>\n",
       "      <th>3877</th>\n",
       "      <td>38.779995</td>\n",
       "      <td>721.170910</td>\n",
       "    </tr>\n",
       "    <tr>\n",
       "      <th>3878</th>\n",
       "      <td>38.789997</td>\n",
       "      <td>721.280016</td>\n",
       "    </tr>\n",
       "    <tr>\n",
       "      <th>3879</th>\n",
       "      <td>38.800000</td>\n",
       "      <td>721.389084</td>\n",
       "    </tr>\n",
       "  </tbody>\n",
       "</table>\n",
       "<p>3880 rows × 2 columns</p>\n",
       "</div>"
      ],
      "text/plain": [
       "      depths_km   Tmodel1_C\n",
       "0      0.000000    7.500000\n",
       "1      0.010003    7.759012\n",
       "2      0.020005    8.017984\n",
       "3      0.030008    8.276919\n",
       "4      0.040010    8.535814\n",
       "...         ...         ...\n",
       "3875  38.759990  720.952582\n",
       "3876  38.769992  721.061766\n",
       "3877  38.779995  721.170910\n",
       "3878  38.789997  721.280016\n",
       "3879  38.800000  721.389084\n",
       "\n",
       "[3880 rows x 2 columns]"
      ]
     },
     "execution_count": 5,
     "metadata": {},
     "output_type": "execute_result"
    }
   ],
   "source": [
    "# generate a linear spaced array of depths every 10 m\n",
    "depths = np.linspace(start=0, stop=moho, num=3880)\n",
    "\n",
    "# call the \"turcotte_schubert_model\" and pass the different arguments in order\n",
    "T_crust = turcotte_schubert_model(depths, thermal=(T0, heat_crust.Jq, heat_crust.A, heat_crust.K))\n",
    "\n",
    "# create a pandas dataframe (tabular-like data)\n",
    "dataset = pd.DataFrame({'depths_km': depths,\n",
    "                        'Tmodel1_C': T_crust})\n",
    "dataset.round(2)"
   ]
  },
  {
   "cell_type": "code",
   "execution_count": 6,
   "metadata": {},
   "outputs": [
    {
     "data": {
      "text/html": [
       "<div>\n",
       "<style scoped>\n",
       "    .dataframe tbody tr th:only-of-type {\n",
       "        vertical-align: middle;\n",
       "    }\n",
       "\n",
       "    .dataframe tbody tr th {\n",
       "        vertical-align: top;\n",
       "    }\n",
       "\n",
       "    .dataframe thead th {\n",
       "        text-align: right;\n",
       "    }\n",
       "</style>\n",
       "<table border=\"1\" class=\"dataframe\">\n",
       "  <thead>\n",
       "    <tr style=\"text-align: right;\">\n",
       "      <th></th>\n",
       "      <th>depths_km</th>\n",
       "      <th>Tmodel1_C</th>\n",
       "      <th>pressure_MPa</th>\n",
       "    </tr>\n",
       "  </thead>\n",
       "  <tbody>\n",
       "    <tr>\n",
       "      <th>0</th>\n",
       "      <td>0.00</td>\n",
       "      <td>7.500</td>\n",
       "      <td>0.000</td>\n",
       "    </tr>\n",
       "    <tr>\n",
       "      <th>1</th>\n",
       "      <td>0.01</td>\n",
       "      <td>7.759</td>\n",
       "      <td>0.270</td>\n",
       "    </tr>\n",
       "    <tr>\n",
       "      <th>2</th>\n",
       "      <td>0.02</td>\n",
       "      <td>8.018</td>\n",
       "      <td>0.540</td>\n",
       "    </tr>\n",
       "    <tr>\n",
       "      <th>3</th>\n",
       "      <td>0.03</td>\n",
       "      <td>8.277</td>\n",
       "      <td>0.809</td>\n",
       "    </tr>\n",
       "    <tr>\n",
       "      <th>4</th>\n",
       "      <td>0.04</td>\n",
       "      <td>8.536</td>\n",
       "      <td>1.079</td>\n",
       "    </tr>\n",
       "    <tr>\n",
       "      <th>...</th>\n",
       "      <td>...</td>\n",
       "      <td>...</td>\n",
       "      <td>...</td>\n",
       "    </tr>\n",
       "    <tr>\n",
       "      <th>3875</th>\n",
       "      <td>38.76</td>\n",
       "      <td>720.953</td>\n",
       "      <td>1045.291</td>\n",
       "    </tr>\n",
       "    <tr>\n",
       "      <th>3876</th>\n",
       "      <td>38.77</td>\n",
       "      <td>721.062</td>\n",
       "      <td>1045.560</td>\n",
       "    </tr>\n",
       "    <tr>\n",
       "      <th>3877</th>\n",
       "      <td>38.78</td>\n",
       "      <td>721.171</td>\n",
       "      <td>1045.830</td>\n",
       "    </tr>\n",
       "    <tr>\n",
       "      <th>3878</th>\n",
       "      <td>38.79</td>\n",
       "      <td>721.280</td>\n",
       "      <td>1046.100</td>\n",
       "    </tr>\n",
       "    <tr>\n",
       "      <th>3879</th>\n",
       "      <td>38.80</td>\n",
       "      <td>721.389</td>\n",
       "      <td>1046.370</td>\n",
       "    </tr>\n",
       "  </tbody>\n",
       "</table>\n",
       "<p>3880 rows × 3 columns</p>\n",
       "</div>"
      ],
      "text/plain": [
       "      depths_km  Tmodel1_C  pressure_MPa\n",
       "0          0.00      7.500         0.000\n",
       "1          0.01      7.759         0.270\n",
       "2          0.02      8.018         0.540\n",
       "3          0.03      8.277         0.809\n",
       "4          0.04      8.536         1.079\n",
       "...         ...        ...           ...\n",
       "3875      38.76    720.953      1045.291\n",
       "3876      38.77    721.062      1045.560\n",
       "3877      38.78    721.171      1045.830\n",
       "3878      38.79    721.280      1046.100\n",
       "3879      38.80    721.389      1046.370\n",
       "\n",
       "[3880 rows x 3 columns]"
      ]
     },
     "execution_count": 6,
     "metadata": {},
     "output_type": "execute_result"
    }
   ],
   "source": [
    "# estimate the pressure gradient (assuming constant density in the crust)\n",
    "dataset['pressure_MPa'] = (ro_crust * g * dataset['depths_km']) / 1e3  # /1e3 to obtain MPa\n",
    "dataset.round(2)"
   ]
  },
  {
   "cell_type": "markdown",
   "metadata": {},
   "source": [
    "In the continental crust, it is considered as a first approximation that quartz controls deformation. Partly because it is one of the dominant mineral phases along with feldspars but is much less resistant than feldspars under similar conditions. So to simplify things once again let's use the experimental values of quartz deformation to model the strength of the continental crust. Let see which flow laws parameters are available within the quartz function"
   ]
  },
  {
   "cell_type": "code",
   "execution_count": 7,
   "metadata": {},
   "outputs": [
    {
     "name": "stdout",
     "output_type": "stream",
     "text": [
      "Available flow laws:\n",
      "'HTD' from Hirth et al. (2004)\n",
      "'LP_wet' from Luan and Paterson (1992)\n",
      "'GT_wet' from Gleason and Tullis (1995)\n",
      "'HK_wet' from Holyoke and Kronenberg (2010)\n",
      "'RB_wet' from Rutter and Brodie (2004)\n"
     ]
    }
   ],
   "source": [
    "quartz()"
   ]
  },
  {
   "cell_type": "markdown",
   "metadata": {},
   "source": [
    "Here, we will use the Hirth et al. (2004) and the Gleason and Tullis (1995) flow laws for comparison. The function ``quartz()`` returns the stress exponent ($n$), the activation energy ($E$) in $J mol^{-1}$, and the material constant ($A$) in $MPa^{-n} s^{-1}$ of the available flow laws."
   ]
  },
  {
   "cell_type": "code",
   "execution_count": 8,
   "metadata": {},
   "outputs": [
    {
     "data": {
      "text/plain": [
       "namespace(n=4.0, E=223000, A=0.00011, ref='Gleason and Tullis (1995)')"
      ]
     },
     "execution_count": 8,
     "metadata": {},
     "output_type": "execute_result"
    }
   ],
   "source": [
    "Hirth = quartz('HTD')\n",
    "Gleason = quartz('GT_wet')\n",
    "\n",
    "# check that we obtained the three values\n",
    "Gleason"
   ]
  },
  {
   "cell_type": "markdown",
   "metadata": {},
   "source": [
    "estimate the differential stress at steady-state using 1.0e-14 $s^{-1}$ as the reference average shear strain rate in the ductile lithosphere."
   ]
  },
  {
   "cell_type": "code",
   "execution_count": 12,
   "metadata": {},
   "outputs": [
    {
     "data": {
      "text/html": [
       "<div>\n",
       "<style scoped>\n",
       "    .dataframe tbody tr th:only-of-type {\n",
       "        vertical-align: middle;\n",
       "    }\n",
       "\n",
       "    .dataframe tbody tr th {\n",
       "        vertical-align: top;\n",
       "    }\n",
       "\n",
       "    .dataframe thead th {\n",
       "        text-align: right;\n",
       "    }\n",
       "</style>\n",
       "<table border=\"1\" class=\"dataframe\">\n",
       "  <thead>\n",
       "    <tr style=\"text-align: right;\">\n",
       "      <th></th>\n",
       "      <th>depths_km</th>\n",
       "      <th>Tmodel1_C</th>\n",
       "      <th>pressure_MPa</th>\n",
       "      <th>model_HTD</th>\n",
       "      <th>model_GT</th>\n",
       "    </tr>\n",
       "  </thead>\n",
       "  <tbody>\n",
       "    <tr>\n",
       "      <th>0</th>\n",
       "      <td>0.00</td>\n",
       "      <td>7.50</td>\n",
       "      <td>0.00</td>\n",
       "      <td>381447.54</td>\n",
       "      <td>73392481.57</td>\n",
       "    </tr>\n",
       "    <tr>\n",
       "      <th>1</th>\n",
       "      <td>0.01</td>\n",
       "      <td>7.76</td>\n",
       "      <td>0.27</td>\n",
       "      <td>376405.17</td>\n",
       "      <td>71795453.52</td>\n",
       "    </tr>\n",
       "    <tr>\n",
       "      <th>2</th>\n",
       "      <td>0.02</td>\n",
       "      <td>8.02</td>\n",
       "      <td>0.54</td>\n",
       "      <td>371439.29</td>\n",
       "      <td>70236254.14</td>\n",
       "    </tr>\n",
       "    <tr>\n",
       "      <th>3</th>\n",
       "      <td>0.03</td>\n",
       "      <td>8.28</td>\n",
       "      <td>0.81</td>\n",
       "      <td>366548.62</td>\n",
       "      <td>68713917.83</td>\n",
       "    </tr>\n",
       "    <tr>\n",
       "      <th>4</th>\n",
       "      <td>0.04</td>\n",
       "      <td>8.54</td>\n",
       "      <td>1.08</td>\n",
       "      <td>361731.87</td>\n",
       "      <td>67227505.33</td>\n",
       "    </tr>\n",
       "    <tr>\n",
       "      <th>...</th>\n",
       "      <td>...</td>\n",
       "      <td>...</td>\n",
       "      <td>...</td>\n",
       "      <td>...</td>\n",
       "      <td>...</td>\n",
       "    </tr>\n",
       "    <tr>\n",
       "      <th>3875</th>\n",
       "      <td>38.76</td>\n",
       "      <td>720.95</td>\n",
       "      <td>1045.29</td>\n",
       "      <td>12.22</td>\n",
       "      <td>2.71</td>\n",
       "    </tr>\n",
       "    <tr>\n",
       "      <th>3876</th>\n",
       "      <td>38.77</td>\n",
       "      <td>721.06</td>\n",
       "      <td>1045.56</td>\n",
       "      <td>12.21</td>\n",
       "      <td>2.71</td>\n",
       "    </tr>\n",
       "    <tr>\n",
       "      <th>3877</th>\n",
       "      <td>38.78</td>\n",
       "      <td>721.17</td>\n",
       "      <td>1045.83</td>\n",
       "      <td>12.21</td>\n",
       "      <td>2.70</td>\n",
       "    </tr>\n",
       "    <tr>\n",
       "      <th>3878</th>\n",
       "      <td>38.79</td>\n",
       "      <td>721.28</td>\n",
       "      <td>1046.10</td>\n",
       "      <td>12.20</td>\n",
       "      <td>2.70</td>\n",
       "    </tr>\n",
       "    <tr>\n",
       "      <th>3879</th>\n",
       "      <td>38.80</td>\n",
       "      <td>721.39</td>\n",
       "      <td>1046.37</td>\n",
       "      <td>12.20</td>\n",
       "      <td>2.70</td>\n",
       "    </tr>\n",
       "  </tbody>\n",
       "</table>\n",
       "<p>3880 rows × 5 columns</p>\n",
       "</div>"
      ],
      "text/plain": [
       "      depths_km  Tmodel1_C  pressure_MPa  model_HTD     model_GT\n",
       "0          0.00       7.50          0.00  381447.54  73392481.57\n",
       "1          0.01       7.76          0.27  376405.17  71795453.52\n",
       "2          0.02       8.02          0.54  371439.29  70236254.14\n",
       "3          0.03       8.28          0.81  366548.62  68713917.83\n",
       "4          0.04       8.54          1.08  361731.87  67227505.33\n",
       "...         ...        ...           ...        ...          ...\n",
       "3875      38.76     720.95       1045.29      12.22         2.71\n",
       "3876      38.77     721.06       1045.56      12.21         2.71\n",
       "3877      38.78     721.17       1045.83      12.21         2.70\n",
       "3878      38.79     721.28       1046.10      12.20         2.70\n",
       "3879      38.80     721.39       1046.37      12.20         2.70\n",
       "\n",
       "[3880 rows x 5 columns]"
      ]
     },
     "execution_count": 12,
     "metadata": {},
     "output_type": "execute_result"
    }
   ],
   "source": [
    "dataset['model_HTD'] = power_law_creep(strain_rate=1e-14,\n",
    "                                       A=Hirth.A,\n",
    "                                       n=Hirth.n,\n",
    "                                       exp_fact=(Hirth.E,\n",
    "                                                 dataset['Tmodel1_C'] + 273.15,  # convert C to K\n",
    "                                                 dataset['pressure_MPa'], 1)\n",
    "                                      )\n",
    "\n",
    "dataset['model_GT'] = power_law_creep(strain_rate=1e-14,\n",
    "                                      A=Gleason.A,\n",
    "                                      n=Gleason.n,\n",
    "                                      exp_fact=(Gleason.E,\n",
    "                                                dataset['Tmodel1_C'] + 273.15,\n",
    "                                                dataset['pressure_MPa'], 1)\n",
    "                                      )\n",
    "\n",
    "dataset.round(2)"
   ]
  },
  {
   "cell_type": "markdown",
   "metadata": {},
   "source": [
    "Lastly, we are going to plot the \"Goetze criterion\" to use as a reference for the brittle field in our figure. The _Goetze criterion_, suggested by C. Goetze based on Edmond and Paterson's (1972) data, defines the condition at which the differential stress needed to produce plastic flow (i.e. the yield stress) becomes higher than the confining pressure and thus high enough for crack nucleation.\n",
    "$$\n",
    "\\sigma_{1} - \\sigma_{3} = P = \\rho g h\n",
    "$$"
   ]
  },
  {
   "cell_type": "code",
   "execution_count": 13,
   "metadata": {},
   "outputs": [
    {
     "data": {
      "image/png": "[encoded data removed]",
      "text/plain": [
       "<Figure size 324x432 with 1 Axes>"
      ]
     },
     "metadata": {},
     "output_type": "display_data"
    }
   ],
   "source": [
    "# plot the geotherm for the entire lithosphere\n",
    "fig1, ax = plt.subplots(figsize=(4.5, 6))\n",
    "\n",
    "# tweak the figure axe so that the depth is shown on the y-axis downwards\n",
    "ax.invert_yaxis()\n",
    "ax.xaxis.tick_top()\n",
    "ax.xaxis.set_label_position('top')\n",
    "\n",
    "# plot the strength envelopes\n",
    "ax.plot(dataset['pressure_MPa'], dataset['depths_km'], label='Goetze criterion')\n",
    "ax.plot(dataset['model_HTD'], dataset['depths_km'], label='Hirth model')\n",
    "ax.plot(dataset['model_GT'], dataset['depths_km'], label='Gleason-Tullis model')\n",
    "ax.plot([0, 1100], [moho, moho], color='black', linestyle='dashed')\n",
    "\n",
    "ax.set(xlabel='differential stress MPa', ylabel='Depth (km)')\n",
    "ax.set_xlim(left=-20, right=620)\n",
    "_ = ax.legend(loc='lower right', fontsize=15)"
   ]
  },
  {
   "cell_type": "markdown",
   "metadata": {},
   "source": [
    "From this figure we can see that:\n",
    "\n",
    "- The frictional-plastic transition in the continental crust is located at a depth of between 12 and 14 km (assuming that our model of stable geotherm and the deformation rate are realistic).\n",
    "- For plastic flow deformation of quartz-rich rocks right at the frictional-plastic transition, a differential stress of about 300 MPa is required. \n",
    "- Using the same parameters, Hirth et al.'s model produces shallower frictional-plastic transitions and requires slightly lower differential stress values than Gleason & Tullis' model in this transition. On the other hand, the Gleason & Tullis' model predicts a less resistant lower crust.\n",
    "\n",
    "In the following notebooks, we will test more models and different parameters, include the lithospheric mantle, and discuss how realistic the predictions are."
   ]
  },
  {
   "cell_type": "code",
   "execution_count": 15,
   "metadata": {},
   "outputs": [
    {
     "name": "stdout",
     "output_type": "stream",
     "text": [
      "Notebook tested in 2022-05-20 using:\n",
      "Python 3.9.12 (main, Apr  4 2022, 05:22:27) [MSC v.1916 64 bit (AMD64)]\n",
      "Numpy 1.22.3\n",
      "Matplotlib 3.5.1\n",
      "Pandas 1.4.2\n"
     ]
    }
   ],
   "source": [
    "import sys\n",
    "from datetime import date    \n",
    "today = date.today().isoformat()\n",
    "\n",
    "print(f'Notebook tested in {today} using:')\n",
    "print('Python', sys.version)\n",
    "print('Numpy', np.__version__)\n",
    "print('Matplotlib', mpl.__version__)\n",
    "print('Pandas', pd.__version__)"
   ]
  }
 ],
 "metadata": {
  "interpreter": {
   "hash": "073408933f31e8ac7f6b4bf29a6f48e1a2f613d7d5b6e5c6c58fd8fdc8389e42"
  },
  "kernelspec": {
   "display_name": "Python 3.9.12 ('main')",
   "language": "python",
   "name": "python3"
  },
  "language_info": {
   "codemirror_mode": {
    "name": "ipython",
    "version": 3
   },
   "file_extension": ".py",
   "mimetype": "text/x-python",
   "name": "python",
   "nbconvert_exporter": "python",
   "pygments_lexer": "ipython3",
   "version": "3.9.12"
  }
 },
 "nbformat": 4,
 "nbformat_minor": 4
}
